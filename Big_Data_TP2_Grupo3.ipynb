{
 "cells": [
  {
   "cell_type": "code",
   "execution_count": 1,
   "id": "29ae21c0-8fe2-4bf6-9959-7603e51a707a",
   "metadata": {},
   "outputs": [
    {
     "name": "stdout",
     "output_type": "stream",
     "text": [
      "Requirement already satisfied: pandas in /opt/anaconda3/lib/python3.12/site-packages (2.2.2)\n",
      "Requirement already satisfied: pyreadstat in /opt/anaconda3/lib/python3.12/site-packages (1.2.8)\n",
      "Requirement already satisfied: openpyxl in /opt/anaconda3/lib/python3.12/site-packages (3.1.5)\n",
      "Requirement already satisfied: numpy>=1.26.0 in /opt/anaconda3/lib/python3.12/site-packages (from pandas) (1.26.4)\n",
      "Requirement already satisfied: python-dateutil>=2.8.2 in /opt/anaconda3/lib/python3.12/site-packages (from pandas) (2.9.0.post0)\n",
      "Requirement already satisfied: pytz>=2020.1 in /opt/anaconda3/lib/python3.12/site-packages (from pandas) (2025.1)\n",
      "Requirement already satisfied: tzdata>=2022.7 in /opt/anaconda3/lib/python3.12/site-packages (from pandas) (2023.3)\n",
      "Requirement already satisfied: et-xmlfile in /opt/anaconda3/lib/python3.12/site-packages (from openpyxl) (1.1.0)\n",
      "Requirement already satisfied: six>=1.5 in /opt/anaconda3/lib/python3.12/site-packages (from python-dateutil>=2.8.2->pandas) (1.16.0)\n"
     ]
    }
   ],
   "source": [
    "!pip install pandas pyreadstat openpyxl\n",
    "import pandas as pd\n",
    "df = pd.read_stata(r\"/Users/zowi/Desktop/Big Data/GitHub/E337-Grupo3/data_unificado_limpia.dta\")\n"
   ]
  },
  {
   "cell_type": "code",
   "execution_count": 19,
   "id": "3d14465c-8761-4b38-b584-3d447dcdca4a",
   "metadata": {},
   "outputs": [
    {
     "name": "stdout",
     "output_type": "stream",
     "text": [
      "Valores únicos en pp02c1: ['<NA>' '2' '1']\n",
      "Valores únicos en pp02c2: ['<NA>' '2' '1']\n",
      "Valores únicos en pp02c3: ['<NA>' '1' '2']\n",
      "Valores únicos en pp02c4: ['<NA>' '2' '1']\n",
      "Valores únicos en pp02c5: ['<NA>' '1' '2']\n",
      "Valores únicos en pp02c6: ['<NA>' '1' '2']\n",
      "Valores únicos en pp02c7: ['<NA>' '2' '1']\n",
      "Valores únicos en pp02c8: ['<NA>' '2' '1']\n"
     ]
    }
   ],
   "source": [
    "# Continuamos la limpieza de datos\n",
    "cols = [f\"pp02c{i}\" for i in range(1, 9)]  # Lista de columnas a modificar\n",
    "df[cols] = df[cols].replace({\"si\": 1, \"no\": 2, 0.0: pd.NA})\n",
    "\n",
    "\n",
    "df[cols] = df[cols].astype(str).replace({\"si\": 1, \"no\": 2, \"0.0\": pd.NA, \"0\": pd.NA})\n",
    "\n",
    "# Imprimir valores únicos por columna\n",
    "for col in cols:\n",
    "    print(f\"Valores únicos en {col}: {df[col].unique()}\") \n",
    "    \n",
    "df.to_stata(r\"/Users/zowi/Desktop/Big Data/GitHub/E337-Grupo3/borrar.dta\", write_index=False)"
   ]
  }
 ],
 "metadata": {
  "kernelspec": {
   "display_name": "Python [conda env:base] *",
   "language": "python",
   "name": "conda-base-py"
  },
  "language_info": {
   "codemirror_mode": {
    "name": "ipython",
    "version": 3
   },
   "file_extension": ".py",
   "mimetype": "text/x-python",
   "name": "python",
   "nbconvert_exporter": "python",
   "pygments_lexer": "ipython3",
   "version": "3.12.7"
  }
 },
 "nbformat": 4,
 "nbformat_minor": 5
}
